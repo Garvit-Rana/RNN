{
 "cells": [
  {
   "cell_type": "code",
   "execution_count": 1,
   "metadata": {
    "ExecuteTime": {
     "end_time": "2019-06-28T10:43:23.569245Z",
     "start_time": "2019-06-28T10:43:10.886581Z"
    }
   },
   "outputs": [],
   "source": [
    "from pandas import read_csv \n",
    "import numpy as np"
   ]
  },
  {
   "cell_type": "code",
   "execution_count": 3,
   "metadata": {
    "ExecuteTime": {
     "end_time": "2019-06-28T10:43:35.921985Z",
     "start_time": "2019-06-28T10:43:35.675757Z"
    }
   },
   "outputs": [
    {
     "data": {
      "text/html": [
       "<div>\n",
       "<style scoped>\n",
       "    .dataframe tbody tr th:only-of-type {\n",
       "        vertical-align: middle;\n",
       "    }\n",
       "\n",
       "    .dataframe tbody tr th {\n",
       "        vertical-align: top;\n",
       "    }\n",
       "\n",
       "    .dataframe thead th {\n",
       "        text-align: right;\n",
       "    }\n",
       "</style>\n",
       "<table border=\"1\" class=\"dataframe\">\n",
       "  <thead>\n",
       "    <tr style=\"text-align: right;\">\n",
       "      <th></th>\n",
       "      <th>#Passengers</th>\n",
       "    </tr>\n",
       "  </thead>\n",
       "  <tbody>\n",
       "    <tr>\n",
       "      <th>count</th>\n",
       "      <td>144.000000</td>\n",
       "    </tr>\n",
       "    <tr>\n",
       "      <th>mean</th>\n",
       "      <td>280.298611</td>\n",
       "    </tr>\n",
       "    <tr>\n",
       "      <th>std</th>\n",
       "      <td>119.966317</td>\n",
       "    </tr>\n",
       "    <tr>\n",
       "      <th>min</th>\n",
       "      <td>104.000000</td>\n",
       "    </tr>\n",
       "    <tr>\n",
       "      <th>25%</th>\n",
       "      <td>180.000000</td>\n",
       "    </tr>\n",
       "    <tr>\n",
       "      <th>50%</th>\n",
       "      <td>265.500000</td>\n",
       "    </tr>\n",
       "    <tr>\n",
       "      <th>75%</th>\n",
       "      <td>360.500000</td>\n",
       "    </tr>\n",
       "    <tr>\n",
       "      <th>max</th>\n",
       "      <td>622.000000</td>\n",
       "    </tr>\n",
       "  </tbody>\n",
       "</table>\n",
       "</div>"
      ],
      "text/plain": [
       "       #Passengers\n",
       "count   144.000000\n",
       "mean    280.298611\n",
       "std     119.966317\n",
       "min     104.000000\n",
       "25%     180.000000\n",
       "50%     265.500000\n",
       "75%     360.500000\n",
       "max     622.000000"
      ]
     },
     "execution_count": 3,
     "metadata": {},
     "output_type": "execute_result"
    }
   ],
   "source": [
    "df = read_csv('AirPassengers.csv', usecols=[1])\n",
    "df.describe()"
   ]
  },
  {
   "cell_type": "code",
   "execution_count": 4,
   "metadata": {
    "ExecuteTime": {
     "end_time": "2019-06-28T10:43:44.553341Z",
     "start_time": "2019-06-28T10:43:44.545340Z"
    }
   },
   "outputs": [
    {
     "data": {
      "text/plain": [
       "(144, 1)"
      ]
     },
     "execution_count": 4,
     "metadata": {},
     "output_type": "execute_result"
    }
   ],
   "source": [
    "values = df.values.astype('float32')\n",
    "values.shape"
   ]
  },
  {
   "cell_type": "code",
   "execution_count": 7,
   "metadata": {
    "ExecuteTime": {
     "end_time": "2019-06-28T10:44:08.182934Z",
     "start_time": "2019-06-28T10:44:08.174939Z"
    }
   },
   "outputs": [
    {
     "data": {
      "text/plain": [
       "((48, 1), (96, 1))"
      ]
     },
     "execution_count": 7,
     "metadata": {},
     "output_type": "execute_result"
    }
   ],
   "source": [
    "train_size = int((values.shape[0] * 0.67))\n",
    "test_size = values.shape[0]  - train_size\n",
    "train = values[0:train_size]\n",
    "test = values[train_size:]\n",
    "test.shape,train.shape"
   ]
  },
  {
   "cell_type": "code",
   "execution_count": 8,
   "metadata": {
    "ExecuteTime": {
     "end_time": "2019-06-28T10:44:18.909835Z",
     "start_time": "2019-06-28T10:44:10.425365Z"
    }
   },
   "outputs": [],
   "source": [
    "from sklearn.preprocessing import MinMaxScaler\n",
    "scaler = MinMaxScaler(feature_range =(0,1))\n",
    "train = scaler.fit_transform(train)\n",
    "test = scaler.transform(test)"
   ]
  },
  {
   "cell_type": "code",
   "execution_count": 9,
   "metadata": {
    "ExecuteTime": {
     "end_time": "2019-06-28T10:44:35.746770Z",
     "start_time": "2019-06-28T10:44:35.738772Z"
    }
   },
   "outputs": [],
   "source": [
    "def create_dataset(data, k):\n",
    "    dataX, dataY = [],[]\n",
    "    for i in range(data.shape[0] - k):\n",
    "        x = data[i:i + k, 0]\n",
    "        y = data[i + k, 0]\n",
    "        dataX.append(x)\n",
    "        dataY.append(y)\n",
    "    return np.array(dataX), np.array(dataY)"
   ]
  },
  {
   "cell_type": "code",
   "execution_count": 10,
   "metadata": {
    "ExecuteTime": {
     "end_time": "2019-06-28T10:44:37.685038Z",
     "start_time": "2019-06-28T10:44:37.677037Z"
    }
   },
   "outputs": [],
   "source": [
    "look_back = 12\n",
    "trainX, trainY = create_dataset(train, look_back)\n",
    "testX, testY = create_dataset(test, look_back)"
   ]
  },
  {
   "cell_type": "code",
   "execution_count": 12,
   "metadata": {
    "ExecuteTime": {
     "end_time": "2019-06-28T10:45:10.093334Z",
     "start_time": "2019-06-28T10:45:10.085328Z"
    }
   },
   "outputs": [
    {
     "data": {
      "text/plain": [
       "((84, 12, 1), (36, 12, 1), (84,))"
      ]
     },
     "execution_count": 12,
     "metadata": {},
     "output_type": "execute_result"
    }
   ],
   "source": [
    "trainX = np.reshape(trainX, (trainX.shape[0], trainX.shape[1], 1))\n",
    "testX = np.reshape(testX, (testX.shape[0], testX.shape[1], 1))\n",
    "trainX.shape,testX.shape,trainY.shape"
   ]
  },
  {
   "cell_type": "code",
   "execution_count": 13,
   "metadata": {
    "ExecuteTime": {
     "end_time": "2019-06-28T10:46:08.733886Z",
     "start_time": "2019-06-28T10:45:42.026142Z"
    }
   },
   "outputs": [
    {
     "name": "stderr",
     "output_type": "stream",
     "text": [
      "Using TensorFlow backend.\n"
     ]
    }
   ],
   "source": [
    "from keras.models import Sequential\n",
    "from keras.layers import SimpleRNN, Dense"
   ]
  },
  {
   "cell_type": "code",
   "execution_count": 14,
   "metadata": {
    "ExecuteTime": {
     "end_time": "2019-06-28T10:46:22.633602Z",
     "start_time": "2019-06-28T10:46:15.799241Z"
    }
   },
   "outputs": [
    {
     "name": "stdout",
     "output_type": "stream",
     "text": [
      "Epoch 1/10\n",
      "84/84 [==============================] - 2s 24ms/step - loss: 0.0356\n",
      "Epoch 2/10\n",
      "84/84 [==============================] - 0s 3ms/step - loss: 0.0100\n",
      "Epoch 3/10\n",
      "84/84 [==============================] - 0s 3ms/step - loss: 0.0084\n",
      "Epoch 4/10\n",
      "84/84 [==============================] - 0s 3ms/step - loss: 0.0083\n",
      "Epoch 5/10\n",
      "84/84 [==============================] - 0s 3ms/step - loss: 0.0077\n",
      "Epoch 6/10\n",
      "84/84 [==============================] - 0s 3ms/step - loss: 0.0079\n",
      "Epoch 7/10\n",
      "84/84 [==============================] - 0s 3ms/step - loss: 0.0074\n",
      "Epoch 8/10\n",
      "84/84 [==============================] - 0s 3ms/step - loss: 0.0074\n",
      "Epoch 9/10\n",
      "84/84 [==============================] - 0s 3ms/step - loss: 0.0072\n",
      "Epoch 10/10\n",
      "84/84 [==============================] - 0s 3ms/step - loss: 0.0075\n"
     ]
    },
    {
     "data": {
      "text/plain": [
       "<keras.callbacks.History at 0xc9426a3a58>"
      ]
     },
     "execution_count": 14,
     "metadata": {},
     "output_type": "execute_result"
    }
   ],
   "source": [
    "model = Sequential()\n",
    "model.add(SimpleRNN(4, input_shape=(look_back, 1)))\n",
    "model.add(Dense(1))\n",
    "model.compile(loss='mean_squared_error', optimizer='adam')\n",
    "model.fit(trainX, trainY, epochs=10, batch_size = 1)"
   ]
  },
  {
   "cell_type": "code",
   "execution_count": 25,
   "metadata": {
    "ExecuteTime": {
     "end_time": "2019-06-28T10:52:14.833432Z",
     "start_time": "2019-06-28T10:52:14.813435Z"
    }
   },
   "outputs": [
    {
     "data": {
      "text/plain": [
       "((36,),\n",
       " (36,),\n",
       " (84,),\n",
       " array([128.57045, 106.18714, 134.23286, 121.1619 , 134.28848, 119.53259,\n",
       "        150.47446, 148.92252, 163.0703 , 153.99678, 145.50745, 132.42885,\n",
       "        155.86472, 136.9807 , 161.39159, 167.001  , 159.82509, 185.30688,\n",
       "        166.17589, 209.42313, 181.91925, 203.41931, 173.60327, 177.88005,\n",
       "        183.10251, 177.18855, 193.3256 , 191.55064, 190.19456, 197.06642,\n",
       "        220.47728, 220.00624, 244.15564, 207.76924, 227.80067, 187.05194,\n",
       "        229.00525, 192.68878, 222.629  , 234.03674, 234.0449 , 240.61198,\n",
       "        247.12656, 262.30093, 266.2036 , 244.47742, 241.20026, 207.06749,\n",
       "        237.55614, 208.23666, 216.9608 , 243.73065, 219.09213, 254.75732,\n",
       "        253.4556 , 290.467  , 271.97495, 269.94714, 248.37592, 235.91191,\n",
       "        253.60246, 247.9431 , 249.49274, 274.34824, 263.82288, 280.2016 ,\n",
       "        303.24417, 327.49625, 316.27255, 308.42822, 285.56082, 265.35297,\n",
       "        297.03503, 277.82437, 291.47208, 311.1632 , 301.90323, 317.03802,\n",
       "        344.43396, 357.27795, 357.06284, 332.5869 , 313.02304, 291.00867],\n",
       "       dtype=float32),\n",
       " array([115.00000165, 125.99999813, 140.99999835, 135.00000194,\n",
       "        125.0000018 , 148.99999662, 170.00000245, 170.00000245,\n",
       "        157.99999122, 133.00000007, 113.99999611, 140.00000201,\n",
       "        145.00000209, 150.00000216, 177.99999151, 162.99999129,\n",
       "        171.99999511, 177.99999151, 199.00000655, 199.00000655,\n",
       "        184.00000633, 161.99999496, 145.99999842, 165.9999987 ,\n",
       "        170.99999878, 180.00000259, 192.99999173, 180.99999892,\n",
       "        182.99999158, 217.99999209, 230.00000331, 241.99999611,\n",
       "        209.00000669, 190.99999906, 171.99999511, 194.00000648,\n",
       "        195.99999914, 195.99999914, 235.99999971, 235.00000338,\n",
       "        229.00000698, 242.99999245, 263.99999827, 272.00000576,\n",
       "        236.99999604, 210.99999935, 180.00000259, 200.99999921,\n",
       "        204.00000662, 187.99999165, 235.00000338, 226.9999959 ,\n",
       "        234.00000705, 263.99999827, 302.00000619, 292.99998396,\n",
       "        258.9999982 , 229.00000698, 202.99999187, 229.00000698,\n",
       "        241.99999611, 232.9999923 , 267.00000568, 268.99999835,\n",
       "        270.00001309, 315.00001374, 363.99999971, 347.00000683,\n",
       "        312.00000633, 273.99999842, 236.99999604, 277.99998374,\n",
       "        283.99999856, 277.00000583, 317.0000064 , 313.00002108,\n",
       "        318.00002115, 373.99999986, 413.00002252, 405.00001504,\n",
       "        355.00001432, 305.99999151, 270.99999101, 305.99999151]))"
      ]
     },
     "execution_count": 25,
     "metadata": {},
     "output_type": "execute_result"
    }
   ],
   "source": [
    "testPredict = model.predict(testX)\n",
    "testPredict = scaler.inverse_transform(testPredict).ravel()\n",
    "\n",
    "trainPredict = model.predict(trainX)\n",
    "trainPredict = scaler.inverse_transform(trainPredict).ravel()\n",
    "\n",
    "testTrue = scaler.inverse_transform([testY]).ravel()\n",
    "trainTrue = scaler.inverse_transform([trainY]).ravel()\n",
    "\n",
    "testPredict.shape, testTrue.shape,trainPredict.shape,trainPredict,trainTrue"
   ]
  },
  {
   "cell_type": "code",
   "execution_count": 18,
   "metadata": {
    "ExecuteTime": {
     "end_time": "2019-06-28T10:47:43.759149Z",
     "start_time": "2019-06-28T10:47:41.900314Z"
    }
   },
   "outputs": [],
   "source": [
    "from matplotlib import pyplot as plt"
   ]
  },
  {
   "cell_type": "code",
   "execution_count": 19,
   "metadata": {
    "ExecuteTime": {
     "end_time": "2019-06-28T10:47:45.450885Z",
     "start_time": "2019-06-28T10:47:44.702902Z"
    }
   },
   "outputs": [
    {
     "data": {
      "image/png": "[encoded data removed]",
      "text/plain": [
       "<Figure size 432x288 with 1 Axes>"
      ]
     },
     "metadata": {
      "needs_background": "light"
     },
     "output_type": "display_data"
    }
   ],
   "source": [
    "plt.plot(trainTrue, c = 'g')\n",
    "plt.plot(trainPredict, c = 'b')\n",
    "plt.show()"
   ]
  },
  {
   "cell_type": "code",
   "execution_count": 22,
   "metadata": {
    "ExecuteTime": {
     "end_time": "2019-06-28T10:49:03.634830Z",
     "start_time": "2019-06-28T10:49:03.414108Z"
    }
   },
   "outputs": [
    {
     "data": {
      "image/png": "[encoded data removed]",
      "text/plain": [
       "<Figure size 432x288 with 1 Axes>"
      ]
     },
     "metadata": {
      "needs_background": "light"
     },
     "output_type": "display_data"
    }
   ],
   "source": [
    "combinedPredicted = np.concatenate((trainPredict, testPredict))\n",
    "combinedTrue = np.concatenate((trainTrue, testTrue))\n",
    "plt.plot(combinedTrue, c = 'g')\n",
    "plt.plot(combinedPredicted, c = 'b')\n",
    "plt.show()"
   ]
  }
 ],
 "metadata": {
  "hide_input": false,
  "kernelspec": {
   "display_name": "Python 3",
   "language": "python",
   "name": "python3"
  },
  "toc": {
   "base_numbering": 1,
   "nav_menu": {},
   "number_sections": true,
   "sideBar": true,
   "skip_h1_title": false,
   "title_cell": "Table of Contents",
   "title_sidebar": "Contents",
   "toc_cell": false,
   "toc_position": {},
   "toc_section_display": true,
   "toc_window_display": false
  }
 },
 "nbformat": 4,
 "nbformat_minor": 2
}
